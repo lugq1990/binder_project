{
 "cells": [
  {
   "cell_type": "code",
   "execution_count": 2,
   "id": "542eecd6-9226-4bae-9d5e-35e2f05d608b",
   "metadata": {},
   "outputs": [],
   "source": [
    "import numpy as np"
   ]
  },
  {
   "cell_type": "code",
   "execution_count": 1,
   "id": "81f4628a-0c73-4e74-8f3e-a525651f526b",
   "metadata": {},
   "outputs": [],
   "source": [
    "from sklearn import metrics"
   ]
  },
  {
   "cell_type": "code",
   "execution_count": 2,
   "id": "3d886bde-ae24-48a6-9555-6af103f70426",
   "metadata": {},
   "outputs": [],
   "source": [
    "import pytesseract\n"
   ]
  },
  {
   "cell_type": "code",
   "execution_count": 3,
   "id": "032af328-5387-4746-8cc6-6a00785acf8f",
   "metadata": {},
   "outputs": [],
   "source": [
    "from PIL import Image\n"
   ]
  },
  {
   "cell_type": "code",
   "execution_count": 10,
   "id": "900b9680-b070-49d7-8d65-d41cd0ac0839",
   "metadata": {},
   "outputs": [],
   "source": [
    "image = Image.open(\"one_page.png\")"
   ]
  },
  {
   "cell_type": "code",
   "execution_count": 11,
   "id": "d69920ea-5c3e-4e3e-969b-390565b2823b",
   "metadata": {},
   "outputs": [
    {
     "data": {
      "text/plain": [
       "'types of actions within the purview of the TR\\'s authority are to assure that the Contractor\\nperforms the technical requirements of the contract; to perform or cause to be performed\\ninspections necessary in connection with the performance of the contract; to maintain both\\nwritten and oral communications with the Contractor concerning the aspects of the written\\ninterpretations of the technical requirements of the statement of work; to monitor the\\nContractor\\'s performance under the contract and notify the Commission of any deficiencies\\nobserved.\\n\\nCommission\\'s Authorized Officer\\nAll contractual administration will be carried out by the Commission\\'s Authorized Officer.\\nCommunications pertaining to contract administration matters will be addressed to:\\n\\nThe Industrial Commission of North Dakota\\nAttention: Karlene Fine\\n\\nState Capitol 14\\'\" Floor\\n\\n600 E Boulevard Ave Dept 405\\n\\nBismarck, North Dakota 58505-0840\\n\\nThe Commission\\'s Authorized Officer is the only person authorized to approve changes in any\\nof the requirements under the contract.\\n\\x0c'"
      ]
     },
     "execution_count": 11,
     "metadata": {},
     "output_type": "execute_result"
    }
   ],
   "source": [
    "pytesseract.image_to_string(image)"
   ]
  },
  {
   "cell_type": "code",
   "execution_count": 12,
   "id": "e8a7e3ff-eb08-44b5-88be-8f6fd576f64c",
   "metadata": {},
   "outputs": [
    {
     "data": {
      "text/plain": [
       "'types of actions within the purview of the TR\\'s authority are to assure that the Contractor\\nperforms the technical requirements of the contract; to perform or cause to be performed\\ninspections necessary in connection with the performance of the contract; to maintain both\\nwritten and oral communications with the Contractor concerning the aspects of the written\\ninterpretations of the technical requirements of the statement of work; to monitor the\\nContractor\\'s performance under the contract and notify the Commission of any deficiencies\\nobserved.\\n\\nCommission\\'s Authorized Officer\\nAll contractual administration will be carried out by the Commission\\'s Authorized Officer.\\nCommunications pertaining to contract administration matters will be addressed to:\\n\\nThe Industrial Commission of North Dakota\\nAttention: Karlene Fine\\n\\nState Capitol 14\\'\" Floor\\n\\n600 E Boulevard Ave Dept 405\\n\\nBismarck, North Dakota 58505-0840\\n\\nThe Commission\\'s Authorized Officer is the only person authorized to approve changes in any\\nof the requirements under the contract.\\n\\x0c'"
      ]
     },
     "execution_count": 12,
     "metadata": {},
     "output_type": "execute_result"
    }
   ],
   "source": [
    "out = pytesseract.image_to_string(image)\n",
    "\n",
    "out"
   ]
  },
  {
   "cell_type": "code",
   "execution_count": 14,
   "id": "59f42fd1-942e-4b5a-9b51-17bf8b578ba0",
   "metadata": {},
   "outputs": [
    {
     "data": {
      "text/plain": [
       "[\"types of actions within the purview of the TR's authority are to assure that the Contractor\",\n",
       " 'performs the technical requirements of the contract; to perform or cause to be performed',\n",
       " 'inspections necessary in connection with the performance of the contract; to maintain both',\n",
       " 'written and oral communications with the Contractor concerning the aspects of the written',\n",
       " 'interpretations of the technical requirements of the statement of work; to monitor the',\n",
       " \"Contractor's performance under the contract and notify the Commission of any deficiencies\",\n",
       " 'observed.',\n",
       " \"Commission's Authorized Officer\",\n",
       " \"All contractual administration will be carried out by the Commission's Authorized Officer.\",\n",
       " 'Communications pertaining to contract administration matters will be addressed to:',\n",
       " 'The Industrial Commission of North Dakota',\n",
       " 'Attention: Karlene Fine',\n",
       " 'State Capitol 14\\'\" Floor',\n",
       " '600 E Boulevard Ave Dept 405',\n",
       " 'Bismarck, North Dakota 58505-0840',\n",
       " \"The Commission's Authorized Officer is the only person authorized to approve changes in any\",\n",
       " 'of the requirements under the contract.',\n",
       " '\\x0c']"
      ]
     },
     "execution_count": 14,
     "metadata": {},
     "output_type": "execute_result"
    }
   ],
   "source": [
    "[x for x in out.split(\"\\n\") if x != '']"
   ]
  },
  {
   "cell_type": "code",
   "execution_count": null,
   "id": "f40ef427-e82b-496d-9157-3046a466895d",
   "metadata": {},
   "outputs": [],
   "source": []
  }
 ],
 "metadata": {
  "kernelspec": {
   "display_name": "Python 3 (ipykernel)",
   "language": "python",
   "name": "python3"
  },
  "language_info": {
   "codemirror_mode": {
    "name": "ipython",
    "version": 3
   },
   "file_extension": ".py",
   "mimetype": "text/x-python",
   "name": "python",
   "nbconvert_exporter": "python",
   "pygments_lexer": "ipython3",
   "version": "3.7.10"
  }
 },
 "nbformat": 4,
 "nbformat_minor": 5
}
